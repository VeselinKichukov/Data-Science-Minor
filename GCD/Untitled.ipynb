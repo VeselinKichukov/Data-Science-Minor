{
 "cells": [
  {
   "cell_type": "code",
   "execution_count": 3,
   "metadata": {
    "collapsed": false,
    "scrolled": true
   },
   "outputs": [
    {
     "data": {
      "text/html": [
       "<div>\n",
       "<table border=\"1\" class=\"dataframe\">\n",
       "  <thead>\n",
       "    <tr style=\"text-align: right;\">\n",
       "      <th></th>\n",
       "      <th>Landgrabbed</th>\n",
       "      <th>Landgrabber</th>\n",
       "      <th>Base</th>\n",
       "      <th>Sector</th>\n",
       "      <th>Hectares</th>\n",
       "      <th>Production</th>\n",
       "      <th>Projected investment</th>\n",
       "      <th>Status of deal</th>\n",
       "      <th>Summary</th>\n",
       "    </tr>\n",
       "  </thead>\n",
       "  <tbody>\n",
       "    <tr>\n",
       "      <th>0</th>\n",
       "      <td>Algeria</td>\n",
       "      <td>Al Qudra</td>\n",
       "      <td>UAE</td>\n",
       "      <td>Finance, real estate</td>\n",
       "      <td>31000</td>\n",
       "      <td>Milk, olive oil, potatoes</td>\n",
       "      <td>NaN</td>\n",
       "      <td>Done</td>\n",
       "      <td>Al Qudra Holding is a joint-stock company esta...</td>\n",
       "    </tr>\n",
       "    <tr>\n",
       "      <th>1</th>\n",
       "      <td>Angola</td>\n",
       "      <td>CAMC Engineering Co. Ltd</td>\n",
       "      <td>China</td>\n",
       "      <td>Construction</td>\n",
       "      <td>1500</td>\n",
       "      <td>Rice</td>\n",
       "      <td>US$77 million</td>\n",
       "      <td>Done</td>\n",
       "      <td>CAMCE is a subsidiary of the China National Ma...</td>\n",
       "    </tr>\n",
       "    <tr>\n",
       "      <th>2</th>\n",
       "      <td>Angola</td>\n",
       "      <td>ENI</td>\n",
       "      <td>Italy</td>\n",
       "      <td>Energy</td>\n",
       "      <td>12000</td>\n",
       "      <td>Oil palm</td>\n",
       "      <td>NaN</td>\n",
       "      <td>In process</td>\n",
       "      <td>The project is a joint venture between Sonango...</td>\n",
       "    </tr>\n",
       "    <tr>\n",
       "      <th>3</th>\n",
       "      <td>Angola</td>\n",
       "      <td>AfriAgro</td>\n",
       "      <td>Portugal</td>\n",
       "      <td>Finance, real estate</td>\n",
       "      <td>5000</td>\n",
       "      <td>Oil palm</td>\n",
       "      <td>US$30-35 million</td>\n",
       "      <td>Done</td>\n",
       "      <td>AfriAgro is a subsidiary of the Portugal-based...</td>\n",
       "    </tr>\n",
       "    <tr>\n",
       "      <th>4</th>\n",
       "      <td>Angola</td>\n",
       "      <td>Eurico Ferreira</td>\n",
       "      <td>Portugal</td>\n",
       "      <td>Energy, telecommunications\\n</td>\n",
       "      <td>30000</td>\n",
       "      <td>Sugar cane</td>\n",
       "      <td>US$200 million</td>\n",
       "      <td>Done</td>\n",
       "      <td>In 2008, Portuguese conglomerate Eurico Ferrei...</td>\n",
       "    </tr>\n",
       "  </tbody>\n",
       "</table>\n",
       "</div>"
      ],
      "text/plain": [
       "  Landgrabbed               Landgrabber      Base  \\\n",
       "0     Algeria                  Al Qudra       UAE   \n",
       "1      Angola  CAMC Engineering Co. Ltd     China   \n",
       "2      Angola                       ENI     Italy   \n",
       "3      Angola                  AfriAgro  Portugal   \n",
       "4      Angola           Eurico Ferreira  Portugal   \n",
       "\n",
       "                         Sector  Hectares                 Production  \\\n",
       "0          Finance, real estate     31000  Milk, olive oil, potatoes   \n",
       "1                  Construction      1500                       Rice   \n",
       "2                        Energy     12000                   Oil palm   \n",
       "3          Finance, real estate      5000                   Oil palm   \n",
       "4  Energy, telecommunications\\n     30000                 Sugar cane   \n",
       "\n",
       "  Projected investment Status of deal  \\\n",
       "0                  NaN           Done   \n",
       "1        US$77 million          Done    \n",
       "2                  NaN     In process   \n",
       "3     US$30-35 million           Done   \n",
       "4       US$200 million           Done   \n",
       "\n",
       "                                             Summary  \n",
       "0  Al Qudra Holding is a joint-stock company esta...  \n",
       "1  CAMCE is a subsidiary of the China National Ma...  \n",
       "2  The project is a joint venture between Sonango...  \n",
       "3  AfriAgro is a subsidiary of the Portugal-based...  \n",
       "4  In 2008, Portuguese conglomerate Eurico Ferrei...  "
      ]
     },
     "execution_count": 3,
     "metadata": {},
     "output_type": "execute_result"
    }
   ],
   "source": [
    "import pandas as pd\n",
    "df = pd.read_csv('GCD-Week-3-GRAIN---Land-grab-deals---Jan-2012.csv' , sep= ';' , encoding = 'utf-8')\n",
    "df.head()"
   ]
  },
  {
   "cell_type": "code",
   "execution_count": 28,
   "metadata": {
    "collapsed": false
   },
   "outputs": [
    {
     "data": {
      "text/plain": [
       "(416, 9)"
      ]
     },
     "execution_count": 28,
     "metadata": {},
     "output_type": "execute_result"
    }
   ],
   "source": [
    "#df=pd.read_csv('GCD-Week-3-GRAIN---Land-grab-deals---Jan-2012.csv' ,header=0, na_values=['NA'])\n",
    "#df[pd.isnull[pd.isnull(df['Sector'])]\n",
    "#df=pd.read_csv('GCD-Week-3-GRAIN---Land-grab-deals---Jan-2012.csv' ,header=0,na_values=['g'])\n",
    "#subset_1 = df.iloc[:100, :]\n",
    "#subset_1.shape\n",
    "#df_no_duplicate = df.drop_duplicates()\n",
    "#df_no_duplicate.shape\n",
    "#df_replaced = df.replace(1, 7)\n",
    "#df_replaced.shape"
   ]
  },
  {
   "cell_type": "code",
   "execution_count": null,
   "metadata": {
    "collapsed": true
   },
   "outputs": [],
   "source": []
  }
 ],
 "metadata": {
  "kernelspec": {
   "display_name": "Python 3",
   "language": "python",
   "name": "python3"
  },
  "language_info": {
   "codemirror_mode": {
    "name": "ipython",
    "version": 3
   },
   "file_extension": ".py",
   "mimetype": "text/x-python",
   "name": "python",
   "nbconvert_exporter": "python",
   "pygments_lexer": "ipython3",
   "version": "3.4.3"
  }
 },
 "nbformat": 4,
 "nbformat_minor": 0
}
